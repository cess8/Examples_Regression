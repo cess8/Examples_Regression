{
 "metadata": {
  "name": "logisticregressionexample.ipynb"
 },
 "nbformat": 3,
 "nbformat_minor": 0,
 "worksheets": [
  {
   "cells": [
    {
     "cell_type": "code",
     "collapsed": false,
     "input": [
      "# http://blog.yhathq.com/posts/logistic-regression-and-python.html\n",
      "# import relevant packages\n",
      "import pandas as pd\n",
      "import statsmodels.api as sm\n",
      "import pylab as pl\n",
      "import numpy as np"
     ],
     "language": "python",
     "metadata": {},
     "outputs": [],
     "prompt_number": 2
    },
    {
     "cell_type": "code",
     "collapsed": false,
     "input": [
      "# read the data in\n",
      "df = pd.read_csv(\"DataAnalysisProject_11_11_2014.csv\")"
     ],
     "language": "python",
     "metadata": {},
     "outputs": [],
     "prompt_number": 2
    },
    {
     "cell_type": "code",
     "collapsed": false,
     "input": [
      "#test to make sure reading in correct type\n",
      "type(df)"
     ],
     "language": "python",
     "metadata": {},
     "outputs": [
      {
       "metadata": {},
       "output_type": "pyout",
       "prompt_number": 3,
       "text": [
        "pandas.core.frame.DataFrame"
       ]
      }
     ],
     "prompt_number": 3
    },
    {
     "cell_type": "code",
     "collapsed": false,
     "input": [
      "# describe the dataset\n",
      "print df.head()"
     ],
     "language": "python",
     "metadata": {},
     "outputs": [
      {
       "output_type": "stream",
       "stream": "stdout",
       "text": [
        "   sex  totchol  age  sysbp  diabp  cursmoke  cigpday    bmi  diabetes  \\\n",
        "0    1      184   47    107   66.5         1        9  16.87         0   \n",
        "1    1      197   44    118   81.0         1       20  17.44         0   \n",
        "2    1      187   49    110   67.0         1        5  19.26         0   \n",
        "3    1      169   44    116   62.0         0        0  19.44         0   \n",
        "4    1      157   44    108   70.0         1       20  20.56         0   \n",
        "\n",
        "   bpmeds   ...    intx_sysbpcat_totcholcat  intx_sysbpcat_bmi  \\\n",
        "0       0   ...                           0                  0   \n",
        "1       0   ...                           0                  0   \n",
        "2       0   ...                           0                  0   \n",
        "3       0   ...                           0                  0   \n",
        "4       0   ...                           0                  0   \n",
        "\n",
        "   intx_sex2_age50  intx_sex2_bmi  intx_age50_bmi  intx_age50_totcholcat  \\\n",
        "0                0              0               0                      0   \n",
        "1                0              0               0                      0   \n",
        "2                0              0               0                      0   \n",
        "3                0              0               0                      0   \n",
        "4                0              0               0                      0   \n",
        "\n",
        "   intx_bmi_totcholcat  sysbpcat01  sysbpcat02  sysbpcat03  \n",
        "0                    0           0           0           0  \n",
        "1                    0           0           0           0  \n",
        "2                    0           0           0           0  \n",
        "3                    0           0           0           0  \n",
        "4                    0           0           0           0  \n",
        "\n",
        "[5 rows x 52 columns]\n"
       ]
      }
     ],
     "prompt_number": 4
    },
    {
     "cell_type": "code",
     "collapsed": false,
     "input": [
      "# summarize the data\n",
      "print df.describe()"
     ],
     "language": "python",
     "metadata": {},
     "outputs": [
      {
       "output_type": "stream",
       "stream": "stdout",
       "text": [
        "               sex      totchol          age        sysbp        diabp  \\\n",
        "count  1150.000000  1137.000000  1150.000000  1150.000000  1150.000000   \n",
        "mean      1.568696   236.474934    49.744348   133.128696    83.096522   \n",
        "std       0.495474    42.858590     8.804463    22.903798    12.207368   \n",
        "min       1.000000   129.000000    33.000000    90.000000    55.000000   \n",
        "25%       1.000000   207.000000    42.000000   117.500000    75.000000   \n",
        "50%       2.000000   235.000000    49.000000   128.500000    82.000000   \n",
        "75%       2.000000   264.000000    57.000000   144.875000    90.000000   \n",
        "max       2.000000   464.000000    68.000000   295.000000   141.000000   \n",
        "\n",
        "          cursmoke      cigpday          bmi     diabetes       bpmeds  \\\n",
        "count  1150.000000  1146.000000  1147.000000  1150.000000  1135.000000   \n",
        "mean      0.495652     9.046248    25.780488     0.024348     0.031718   \n",
        "std       0.500199    12.015003     4.197466     0.154194     0.175326   \n",
        "min       0.000000     0.000000    15.540000     0.000000     0.000000   \n",
        "25%       0.000000     0.000000    22.985000     0.000000     0.000000   \n",
        "50%       0.000000     0.000000    25.380000     0.000000     0.000000   \n",
        "75%       1.000000    20.000000    28.205000     0.000000     0.000000   \n",
        "max       1.000000    60.000000    45.800000     1.000000     1.000000   \n",
        "\n",
        "          ...       intx_sysbpcat_totcholcat  intx_sysbpcat_bmi  \\\n",
        "count     ...                    1137.000000        1147.000000   \n",
        "mean      ...                       1.537379          30.222520   \n",
        "std       ...                       1.741342          28.071893   \n",
        "min       ...                       0.000000           0.000000   \n",
        "25%       ...                       0.000000           0.000000   \n",
        "50%       ...                       1.000000          25.450001   \n",
        "75%       ...                       2.000000          48.730002   \n",
        "max       ...                       6.000000         137.370000   \n",
        "\n",
        "       intx_sex2_age50  intx_sex2_bmi  intx_age50_bmi  intx_age50_totcholcat  \\\n",
        "count      1150.000000    1147.000000     1147.000000            1137.000000   \n",
        "mean          0.297391      14.464551       12.923470               0.721196   \n",
        "std           0.457309      13.100964       13.528507               0.881450   \n",
        "min           0.000000       0.000000        0.000000               0.000000   \n",
        "25%           0.000000       0.000000        0.000000               0.000000   \n",
        "50%           0.000000      20.889999        0.000000               0.000000   \n",
        "75%           1.000000      25.230000       25.835000               2.000000   \n",
        "max           1.000000      45.799999       44.270000               2.000000   \n",
        "\n",
        "       intx_bmi_totcholcat  sysbpcat01  sysbpcat02  sysbpcat03  \n",
        "count          1134.000000  803.000000  553.000000  480.000000  \n",
        "mean             33.109065    0.572852    0.379747    0.285417  \n",
        "std              21.136130    0.494972    0.485763    0.452084  \n",
        "min               0.000000    0.000000    0.000000    0.000000  \n",
        "25%              21.892499    0.000000    0.000000    0.000000  \n",
        "50%              30.040000    1.000000    0.000000    0.000000  \n",
        "75%              50.919998    1.000000    1.000000    1.000000  \n",
        "max              88.180000    1.000000    1.000000    1.000000  \n",
        "\n",
        "[8 rows x 52 columns]\n"
       ]
      }
     ],
     "prompt_number": 6
    },
    {
     "cell_type": "code",
     "collapsed": false,
     "input": [
      "# frequency table cutting systolic blood pressure category by coronary heart disease\n",
      "print pd.crosstab(df['sysbpcat'], df['anychd'], rownames=['sysbpcat'])"
     ],
     "language": "python",
     "metadata": {},
     "outputs": [
      {
       "output_type": "stream",
       "stream": "stdout",
       "text": [
        "anychd      0    1\n",
        "sysbpcat          \n",
        "0         282   56\n",
        "1         331  124\n",
        "2         138   68\n",
        "3          75   59\n"
       ]
      }
     ],
     "prompt_number": 7
    },
    {
     "cell_type": "code",
     "collapsed": false,
     "input": [
      "# plot all of the columns\n",
      "df.hist('anychd','sysbpcat')\n",
      "pl.show()"
     ],
     "language": "python",
     "metadata": {},
     "outputs": [
      {
       "metadata": {},
       "output_type": "display_data",
       "png": "[encoded data removed]",
       "text": [
        "<matplotlib.figure.Figure at 0xa583ba8>"
       ]
      }
     ],
     "prompt_number": 6
    },
    {
     "cell_type": "code",
     "collapsed": false,
     "input": [
      "# dummify systolic blood pressure, serum total cholesterol\n",
      "dummy_sysbpcat = pd.get_dummies(df['sysbpcat'], prefix='sysbpcat')"
     ],
     "language": "python",
     "metadata": {},
     "outputs": [],
     "prompt_number": 8
    },
    {
     "cell_type": "code",
     "collapsed": false,
     "input": [
      "# create a clean data frame for the regression, looking at systolic blood pressure category, \n",
      "# age less than or greater than 50, serum total cholesterol category, and BMI as covariates\n",
      "# in predicting coronary heart disease- CHD\n",
      "cols_to_keep = ['anychd', 'age50', 'sex2', 'bmi']\n",
      "data = df[cols_to_keep].join(dummy_sysbpcat.ix[:, 'sysbpcat_1':])\n",
      "print data.head()"
     ],
     "language": "python",
     "metadata": {},
     "outputs": [
      {
       "output_type": "stream",
       "stream": "stdout",
       "text": [
        "   anychd  age50  sex2    bmi  sysbpcat_1  sysbpcat_2  sysbpcat_3\n",
        "0       0      0     0  16.87           0           0           0\n",
        "1       0      0     0  17.44           0           0           0\n",
        "2       0      0     0  19.26           0           0           0\n",
        "3       0      0     0  19.44           0           0           0\n",
        "4       0      0     0  20.56           0           0           0\n"
       ]
      }
     ],
     "prompt_number": 9
    },
    {
     "cell_type": "code",
     "collapsed": false,
     "input": [
      "# manually add the intercept\n",
      "# data['intercept'] = 1.0"
     ],
     "language": "python",
     "metadata": {},
     "outputs": [],
     "prompt_number": 10
    },
    {
     "cell_type": "code",
     "collapsed": false,
     "input": [
      "# Perform logistic regression\n",
      "train_cols = data.columns[1:] \n",
      "logit = sm.Logit(data['anychd'], data[train_cols])\n",
      " \n",
      "# fit the model\n",
      "result = logit.fit()"
     ],
     "language": "python",
     "metadata": {},
     "outputs": [
      {
       "output_type": "stream",
       "stream": "stdout",
       "text": [
        "Optimization terminated successfully.\n",
        "         Current function value: 0.557075\n",
        "         Iterations 6\n"
       ]
      }
     ],
     "prompt_number": 11
    },
    {
     "cell_type": "code",
     "collapsed": false,
     "input": [
      "# summary\n",
      "print result.summary()"
     ],
     "language": "python",
     "metadata": {},
     "outputs": [
      {
       "output_type": "stream",
       "stream": "stdout",
       "text": [
        "                           Logit Regression Results                           \n",
        "==============================================================================\n",
        "Dep. Variable:                 anychd   No. Observations:                 1133\n",
        "Model:                          Logit   Df Residuals:                     1127\n",
        "Method:                           MLE   Df Model:                            5\n",
        "Date:                Thu, 13 Nov 2014   Pseudo R-squ.:                 0.04645\n",
        "Time:                        13:41:23   Log-Likelihood:                -631.17\n",
        "converged:                       True   LL-Null:                       -661.91\n",
        "                                        LLR p-value:                 5.966e-12\n",
        "==============================================================================\n",
        "                 coef    std err          z      P>|z|      [95.0% Conf. Int.]\n",
        "------------------------------------------------------------------------------\n",
        "age50          0.6751      0.149      4.543      0.000         0.384     0.966\n",
        "sex2          -0.8943      0.137     -6.519      0.000        -1.163    -0.625\n",
        "bmi           -0.0440      0.006     -7.188      0.000        -0.056    -0.032\n",
        "sysbpcat_1     0.2329      0.178      1.309      0.190        -0.116     0.582\n",
        "sysbpcat_2     0.4638      0.215      2.155      0.031         0.042     0.886\n",
        "sysbpcat_3     1.0069      0.248      4.064      0.000         0.521     1.492\n",
        "==============================================================================\n"
       ]
      }
     ],
     "prompt_number": 12
    },
    {
     "cell_type": "code",
     "collapsed": false,
     "input": [
      "# look at the confidence interval of each coeffecient\n",
      "print result.conf_int()"
     ],
     "language": "python",
     "metadata": {},
     "outputs": [
      {
       "output_type": "stream",
       "stream": "stdout",
       "text": [
        "                   0         1\n",
        "age50       0.383828  0.966381\n",
        "sex2       -1.163182 -0.625438\n",
        "bmi        -0.055994 -0.032000\n",
        "sysbpcat_1 -0.115708  0.581571\n",
        "sysbpcat_2  0.041882  0.885757\n",
        "sysbpcat_3  0.521242  1.492481\n"
       ]
      }
     ],
     "prompt_number": 13
    },
    {
     "cell_type": "code",
     "collapsed": false,
     "input": [
      "# odds ratios only\n",
      "print np.exp(result.params)"
     ],
     "language": "python",
     "metadata": {},
     "outputs": [
      {
       "output_type": "stream",
       "stream": "stdout",
       "text": [
        "age50         1.964239\n",
        "sex2          0.408890\n",
        "bmi           0.956957\n",
        "sysbpcat_1    1.262294\n",
        "sysbpcat_2    1.590136\n",
        "sysbpcat_3    2.736998\n",
        "dtype: float64\n"
       ]
      }
     ],
     "prompt_number": 14
    },
    {
     "cell_type": "code",
     "collapsed": false,
     "input": [
      "# odds ratios and 95% CI\n",
      "params = result.params\n",
      "conf = result.conf_int()\n",
      "conf['OR'] = params\n",
      "conf.columns = ['2.5%', '97.5%', 'OR']\n",
      "print np.exp(conf)"
     ],
     "language": "python",
     "metadata": {},
     "outputs": [
      {
       "output_type": "stream",
       "stream": "stdout",
       "text": [
        "                2.5%     97.5%        OR\n",
        "age50       1.467893  2.628416  1.964239\n",
        "sex2        0.312490  0.535027  0.408890\n",
        "bmi         0.945545  0.968506  0.956957\n",
        "sysbpcat_1  0.890735  1.788846  1.262294\n",
        "sysbpcat_2  1.042771  2.424819  1.590136\n",
        "sysbpcat_3  1.684119  4.448118  2.736998\n"
       ]
      }
     ],
     "prompt_number": 15
    },
    {
     "cell_type": "code",
     "collapsed": false,
     "input": [],
     "language": "python",
     "metadata": {},
     "outputs": []
    }
   ],
   "metadata": {}
  }
 ]
}